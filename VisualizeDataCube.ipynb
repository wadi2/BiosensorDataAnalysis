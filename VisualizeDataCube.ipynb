{
 "cells": [
  {
   "cell_type": "code",
   "execution_count": 1,
   "metadata": {},
   "outputs": [],
   "source": [
    "%matplotlib qt\n"
   ]
  },
  {
   "cell_type": "code",
   "execution_count": 2,
   "metadata": {},
   "outputs": [],
   "source": [
    "#import stuffs\n",
    "import matplotlib.pyplot as plt\n",
    "import numpy as np\n",
    "import pandas as pd\n",
    "from scipy import ndimage, signal\n",
    "import os, fnmatch, glob, re, time\n",
    "from scipy.io import loadmat, savemat\n",
    "from matplotlib.colors import BoundaryNorm, ListedColormap\n",
    "from matplotlib import colors\n",
    "from matplotlib.widgets import RectangleSelector\n",
    "import cv2\n",
    "from PIL import Image"
   ]
  },
  {
   "cell_type": "markdown",
   "metadata": {},
   "source": [
    "\n",
    "# Image Slices Viewer\n",
    "\n",
    "\n",
    "Scroll through 2D image slices of a 3D array. https://matplotlib.org/2.1.2/gallery/animation/image_slices_viewer.html\n",
    "\n"
   ]
  },
  {
   "cell_type": "code",
   "execution_count": null,
   "metadata": {},
   "outputs": [],
   "source": [
    "from __future__ import print_function\n",
    "\n",
    "class IndexTracker(object):\n",
    "    def __init__(self, ax, X, wv, info = pd.DataFrame({\"exposure\" : [\" \"], \"power\" : [\" \"], \"chipname\" : [\" \"]}),\\\n",
    "                 wv_min = 0, wv_max = 1, wv_step = 1, cmin = 0, cmax = 10000):\n",
    "        self.ax = ax\n",
    "        self.wv_min = wv_min\n",
    "        self.wv_max = wv_max\n",
    "        self.wv_step = wv_step\n",
    "        self.wv = wv\n",
    "        \n",
    "        ax.set_title('{chipname} at {power}% laser power, {exposure} ms exposure time'.format(chipname = info[\"chipname\"].item(),\\\n",
    "                    power = info[\"power\"].item(), exposure = info[\"exposure\"].item()))\n",
    "        \n",
    "       \n",
    "        \n",
    "        self.X = X\n",
    "        self.slices, rows, cols = X.shape\n",
    "        #start with first slice\n",
    "        self.ind = 0\n",
    "\n",
    "        self.im = ax.imshow(self.X[self.ind, :, : ], cmap = 'gray')\n",
    "        plt.colorbar(self.im, label = \"[a.u.]\")#, ax = self.ax)\n",
    "        self.im.set_clim(vmin = cmin, vmax = cmax)    \n",
    "        self.update()\n",
    "        \n",
    "        \n",
    "        \n",
    "        self.rect = RectangleSelector(self.ax, self.line_select_callback,\n",
    "                                       drawtype='box', useblit=True,\n",
    "                                       button=[1, 3],  # don't use middle button\n",
    "                                       minspanx=5, minspany=5,\n",
    "                                       spancoords='pixels',\n",
    "                                       interactive=True)\n",
    "\n",
    "        plt.connect('key_press_event', self.rect)\n",
    "        \n",
    "        #Create place holder for spectrum and second figure\n",
    "        self.spectrum = np.zeros(self.X.shape[0])\n",
    "        self.fig2, self.ax2 = plt.subplots(1,1)\n",
    "        self.ax2.set_title('{chipname} at {power}% laser power, {exposure} ms exposure time'.format(chipname = info[\"chipname\"].item(),\\\n",
    "                    power = info[\"power\"].item(), exposure = info[\"exposure\"].item()))\n",
    "        self.ax2.plot(range(self.wv_min, self.wv_max +1), self.spectrum)\n",
    "        self.ax2.set_xlabel(\"Wavelength[nm]\")\n",
    "        self.ax2.set_ylabel(\"Signal [a.u.]\")\n",
    "        \n",
    "\n",
    "    def onscroll(self, event):\n",
    "        #print(\"%s %s\" % (event.button, event.step))\n",
    "        if event.button == 'up':\n",
    "            self.ind = (self.ind + 1) % self.slices\n",
    "        else:\n",
    "            self.ind = (self.ind - 1) % self.slices\n",
    "        self.update()\n",
    "\n",
    "    def update(self):\n",
    "        self.im.set_data(self.X[self.ind, :, :])\n",
    "        ax.set_ylabel('Wavelength {wv} nm'.format(wv = self.wv[self.ind]))\n",
    "        self.im.axes.figure.canvas.draw()\n",
    "        \n",
    "    def line_select_callback(self, eclick, erelease):\n",
    "        #'eclick and erelease are the press and release events'\n",
    "        #x and y are interchanged, because the first dimension is the rows, therefore in representation it becomes the y\n",
    "        self.y1, self.x1 = eclick.xdata, eclick.ydata\n",
    "        self.y2, self.x2 = erelease.xdata, erelease.ydata\n",
    "        print(\"Click Coordinate (%3.2f, %3.2f) --> Release Coordinate(%3.2f, %3.2f)\" % (eclick.xdata, eclick.ydata, erelease.xdata, erelease.ydata))\n",
    "        print(\"The average intensity is %3.2f\" % (np.nanmean(self.X[self.ind, \\\n",
    "                                                                int(self.x1):int(self.x2),\n",
    "                                                                int(self.y1):int(self.y2)])))\n",
    "        self.spectrum = np.array([np.nanmean(self.X[i, int(self.x1):int(self.x2), int(self.y1):int(self.y2)]) for i in range(self.X.shape[0])])\n",
    "\n",
    "        self.ax2.plot(range(self.wv_min, self.wv_max +1), self.spectrum, label = \"[%.0f:%.0f, %.0f:%.0f]\" % (self.x1, self.x2, self.y1, self.y2))\n",
    "        self.ax2.legend()\n",
    "        self.fig2.canvas.draw()\n",
    "        #print(\" The button you used were: %s %s\" % (eclick.button, erelease.button))\n",
    "\n",
    "        \n",
    "        "
   ]
  },
  {
   "cell_type": "markdown",
   "metadata": {},
   "source": [
    "# Load Data"
   ]
  },
  {
   "cell_type": "code",
   "execution_count": null,
   "metadata": {},
   "outputs": [],
   "source": [
    "\n",
    "\n",
    "#Load Before Datacube\n",
    "folder_name = \"1\"\n",
    "start_wavelength = 651\n",
    "end_wavelength = 660\n",
    "\n",
    "spectra = loadmat(\"./CS766ProjectDataset/{folder}/Before/{start_wv}.mat\".format(start_wv = start_wavelength, folder = folder_name))\n",
    "spectra = np.array(spectra['spectra'])\n",
    "data_cube = [spectra]\n",
    "for i in range(start_wavelength + 1,end_wavelength +1):\n",
    "    #placeholder\n",
    "    a = loadmat(\"./CS766ProjectDataset/{folder}/Before/{start_wv}.mat\".format(start_wv = i, folder = folder_name))\n",
    "    data_cube.append(np.array(a['spectra']))\n",
    "#convert to np array\n",
    "before = np.array(data_cube)\n",
    "\n",
    "#load After Datacube\n",
    "\n",
    "spectra = loadmat(\"./CS766ProjectDataset/{folder}/After/{start_wv}.mat\".format(start_wv = start_wavelength, folder = folder_name))\n",
    "spectra = np.array(spectra['spectra'])\n",
    "data_cube = [spectra]\n",
    "for i in range(start_wavelength + 1,end_wavelength +1):\n",
    "    #placeholder\n",
    "    a = loadmat(\"./CS766ProjectDataset/{folder}/After/{start_wv}.mat\".format(start_wv = i, folder = folder_name))\n",
    "    data_cube.append(np.array(a['spectra']))\n",
    "#convert to np array\n",
    "after = np.array(data_cube)"
   ]
  },
  {
   "cell_type": "markdown",
   "metadata": {},
   "source": [
    "# Visualize Data"
   ]
  },
  {
   "cell_type": "code",
   "execution_count": null,
   "metadata": {},
   "outputs": [],
   "source": [
    "data = before\n",
    "data_shape = before.shape\n",
    "wv = [i for i in range(start_wavelength,end_wavelength+1)]\n",
    "\n",
    "fig, ax = plt.subplots(1, 1)\n",
    "\n",
    "\n",
    "tracker = IndexTracker(ax, np.resize(data[np.isfinite(data)], data_shape), wv,  \\\n",
    "wv_min = start_wavelength, wv_max = end_wavelength, wv_step = 1,\\\n",
    "cmin = 0, cmax = 10)#3 * np.mean(data[np.isfinite(data)]))\n",
    "\n",
    "\n",
    "fig.canvas.mpl_connect('scroll_event', tracker.onscroll)\n",
    "plt.show()"
   ]
  }
 ],
 "metadata": {
  "kernelspec": {
   "display_name": "Python 3",
   "language": "python",
   "name": "python3"
  },
  "language_info": {
   "codemirror_mode": {
    "name": "ipython",
    "version": 3
   },
   "file_extension": ".py",
   "mimetype": "text/x-python",
   "name": "python",
   "nbconvert_exporter": "python",
   "pygments_lexer": "ipython3",
   "version": "3.8.5"
  }
 },
 "nbformat": 4,
 "nbformat_minor": 4
}
