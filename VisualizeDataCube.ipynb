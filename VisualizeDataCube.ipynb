{
 "cells": [
  {
   "cell_type": "code",
<<<<<<< HEAD
   "execution_count": 136,
=======
   "execution_count": 1,
>>>>>>> f7099a001810edcdd1737cfecf5fd646a67a8c9d
   "metadata": {},
   "outputs": [],
   "source": [
    "%matplotlib qt"
   ]
  },
  {
   "cell_type": "code",
<<<<<<< HEAD
   "execution_count": 137,
=======
   "execution_count": 2,
>>>>>>> f7099a001810edcdd1737cfecf5fd646a67a8c9d
   "metadata": {},
   "outputs": [],
   "source": [
    "#import stuffs\n",
    "import matplotlib.pyplot as plt\n",
    "import numpy as np\n",
    "import pandas as pd\n",
    "from scipy import ndimage, signal\n",
    "import os, fnmatch, glob, re, time\n",
    "from scipy.io import loadmat, savemat\n",
    "from matplotlib.colors import BoundaryNorm, ListedColormap\n",
    "from matplotlib import colors\n",
    "from matplotlib.widgets import RectangleSelector\n",
    "import cv2\n",
    "from PIL import Image\n",
    "# for ginput\n",
    "#https://medium.com/@vyshali.enukonda/how-to-get-around-runtimeerror-this-event-loop-is-already-running-3f26f67e762e\n",
    "import nest_asyncio\n",
    "nest_asyncio.apply()"
   ]
  },
  {
   "cell_type": "markdown",
   "metadata": {},
   "source": [
    "\n",
    "# Image Slices Viewer\n",
    "\n",
    "\n",
    "Scroll through 2D image slices of a 3D array. https://matplotlib.org/2.1.2/gallery/animation/image_slices_viewer.html\n",
    "\n"
   ]
  },
  {
   "cell_type": "code",
<<<<<<< HEAD
   "execution_count": 138,
=======
   "execution_count": 3,
>>>>>>> f7099a001810edcdd1737cfecf5fd646a67a8c9d
   "metadata": {},
   "outputs": [],
   "source": [
    "from __future__ import print_function\n",
    "\n",
    "\n",
    "class IndexTracker(object):\n",
    "    def __init__(self, ax, X, wv, info = pd.DataFrame({\"exposure\" : [\" \"], \"power\" : [\" \"], \"chipname\" : [\" \"]}),\\\n",
    "                 wv_min = 0, wv_max = 1, wv_step = 1, cmin = 0, cmax = 10000):\n",
    "        self.ax = ax\n",
    "        self.wv_min = wv_min\n",
    "        self.wv_max = wv_max\n",
    "        self.wv_step = wv_step\n",
    "        self.wv = wv\n",
    "        \n",
    "        ax.set_title('{chipname} at {power}% laser power, {exposure} ms exposure time'.format(chipname = info[\"chipname\"].item(),\\\n",
    "                    power = info[\"power\"].item(), exposure = info[\"exposure\"].item()))\n",
    "        \n",
    "       \n",
    "        \n",
    "        self.X = X\n",
    "        self.slices, rows, cols = X.shape\n",
    "        #start with first slice\n",
    "        self.ind = 0\n",
    "\n",
    "        self.im = ax.imshow(self.X[self.ind, :,:], cmap = 'gray')\n",
    "        plt.colorbar(self.im, label = \"[a.u.]\")#, ax = self.ax)\n",
    "        self.im.set_clim(vmin = cmin, vmax = cmax)    \n",
    "        self.update()\n",
    "        \n",
    "        \n",
    "        \n",
    "        \n",
    "        #self.rect = RectangleSelector(self.ax, self.line_select_callback,\n",
    "        #                               drawtype='box', useblit=True,\n",
    "        #                               button=[1, 3],  # don't use middle button\n",
    "        #                               minspanx=5, minspany=5,\n",
    "        #                               spancoords='pixels',\n",
    "        #                               interactive=True)\n",
    "\n",
    "        #plt.connect('key_press_event', self.rect)\n",
    "        \n",
    " \n",
    "        #Create place holder for spectrum and second figure\n",
    "        #self.spectrum = np.zeros(self.X.shape[0])\n",
    "        #self.fig2, self.ax2 = plt.subplots(1,1)\n",
    "        #self.ax2.set_title('{chipname} at {power}% laser power, {exposure} ms exposure time'.format(chipname = info[\"chipname\"].item(),\\\n",
    "        #            power = info[\"power\"].item(), exposure = info[\"exposure\"].item()))\n",
    "        #self.ax2.plot(range(self.wv_min, self.wv_max +1), self.spectrum)\n",
    "        #self.ax2.set_xlabel(\"Wavelength[nm]\")\n",
    "        #self.ax2.set_ylabel(\"Signal [a.u.]\")\n",
    "        \n",
    "        #Create place holder for spectrum and second figure\n",
    "        #get currArray\n",
    "        self.currArray = self.X[self.ind, 0:900, 0:300 ]\n",
    "        #get coordinates at top left\n",
    "        self.x = 0\n",
    "        self.y = 0\n",
    "        self.fig3, self.ax3 = plt.subplots(1,1)\n",
    "        self.ax3.im = self.ax3.imshow(self.X[self.ind, 0:900, 0:300 ], cmap = 'gray')\n",
    "        plt.colorbar(self.ax3.im, label = \"[a.u.]\")\n",
    "        self.ax3.im.set_clim(vmin = cmin, vmax = cmax)    \n",
    "        self.update()\n",
    "        \n",
    "        \n",
    "        def onclick(event):\n",
    "            coord =  plt.ginput()\n",
    "            print(coord)\n",
    "            self.ax3.im.set_data(self.X[self.ind,int(coord[0][1])-450:int(coord[0][1])+450,\\\n",
    "                                    int(coord[0][0])-150:int(coord[0][0])+150])\n",
    "            self.ax3.im.axes.figure.canvas.draw()\n",
    "            #savemat(\"./currColumn.mat\", {\"Column\" : self.X[self.ind,:,int(coord[0][0])-150:int(coord[0][0])+150],\\\n",
    "            #                            \"x\" : coord[0][0], \"y\" : coord[0][1]})\n",
    "            self.currArray = self.X[self.ind,int(coord[0][1])-450:int(coord[0][1])+450,\\\n",
    "                                    int(coord[0][0])-150:int(coord[0][0])+150]\n",
    "            self.x = int(coord[0][0])-150\n",
    "            self.y = int(coord[0][1])-450\n",
    "            \n",
    "            \n",
    "        fig.canvas.mpl_connect('button_press_event', onclick)\n",
    "\n",
    "\n",
    "        \n",
    "\n",
    "    def onscroll(self, event):\n",
    "        #print(\"%s %s\" % (event.button, event.step))\n",
    "        if event.button == 'up':\n",
    "            self.ind = (self.ind + 1) % self.slices\n",
    "        else:\n",
    "            self.ind = (self.ind - 1) % self.slices\n",
    "        self.update()\n",
    "\n",
    "    def update(self):\n",
    "        self.im.set_data(self.X[self.ind, :, :])\n",
    "        ax.set_ylabel('Wavelength {wv:.2f} nm'.format(wv = self.wv[self.ind]))\n",
    "        self.im.axes.figure.canvas.draw()\n",
    "        \n",
    "        \n",
    "    #def line_select_callback(self, eclick, erelease):\n",
    "    #    #'eclick and erelease are the press and release events'\n",
    "    #    #x and y are interchanged, because the first dimension is the rows, therefore in representation it becomes the y\n",
    "    #    self.y1, self.x1 = eclick.xdata, eclick.ydata\n",
    "    #    self.y2, self.x2 = erelease.xdata, erelease.ydata\n",
    "        \n",
    "    #    print(\"Click Coordinate (%3.2f, %3.2f) --> Release Coordinate(%3.2f, %3.2f)\" % (eclick.xdata, eclick.ydata, erelease.xdata, erelease.ydata))\n",
    "    #    print(\"The average intensity is %3.2f\" % (np.nanmean(self.X[self.ind, \\\n",
    "    #                                                            int(self.x1):int(self.x2),\n",
    "    #                                                            int(self.y1):int(self.y2)])))\n",
    "    #    self.spectrum = np.array([np.nanmean(self.X[i, int(self.x1):int(self.x2), int(self.y1):int(self.y2)]) for i in range(self.X.shape[0])])\n",
    "    #    self.idx = np.where(self.spectrum==self.spectrum.max())[0]\n",
    "    #    self.ax2.plot(range(self.wv_min, self.wv_max +1), self.spectrum, label = \"Peak at %.2f nm \\n [%.0f:%.0f, %.0f:%.0f]\" % (self.wv[self.ind],self.x1, self.x2, self.y1, self.y2))\n",
    "    #    self.ax2.legend()\n",
    "    #    self.fig2.canvas.draw()\n",
    "    #    #print(\" The button you used were: %s %s\" % (eclick.button, erelease.button))\n",
    "\n",
    "        \n",
    "        "
   ]
  },
  {
   "cell_type": "markdown",
   "metadata": {},
   "source": [
    "# Load Data"
   ]
  },
  {
   "cell_type": "code",
<<<<<<< HEAD
   "execution_count": 139,
=======
   "execution_count": 4,
>>>>>>> f7099a001810edcdd1737cfecf5fd646a67a8c9d
   "metadata": {},
   "outputs": [],
   "source": [
    "#Load Before Datacube\n",
    "folder_name = \"4\"\n",
    "start_wavelength = 651\n",
    "end_wavelength = 660\n",
    "\n",
    "spectra = loadmat(\"./CS766ProjectDataset/{folder}/Before/{start_wv}.mat\".format(start_wv = start_wavelength, folder = folder_name))\n",
    "spectra = np.array(spectra['spectra'])\n",
    "data_cube = [spectra]\n",
    "for i in range(start_wavelength + 1,end_wavelength +1):\n",
    "    #placeholder\n",
    "    a = loadmat(\"./CS766ProjectDataset/{folder}/Before/{start_wv}.mat\".format(start_wv = i, folder = folder_name))\n",
    "    data_cube.append(np.array(a['spectra']))\n",
    "#convert to np array\n",
    "before = np.array(data_cube)\n",
    "\n",
    "#load After Datacube\n",
    "\n",
    "spectra = loadmat(\"./CS766ProjectDataset/{folder}/After/{start_wv}.mat\".format(start_wv = start_wavelength, folder = folder_name))\n",
    "spectra = np.array(spectra['spectra'])\n",
    "data_cube = [spectra]\n",
    "for i in range(start_wavelength + 1,end_wavelength +1):\n",
    "    #placeholder\n",
    "    a = loadmat(\"./CS766ProjectDataset/{folder}/After/{start_wv}.mat\".format(start_wv = i, folder = folder_name))\n",
    "    data_cube.append(np.array(a['spectra']))\n",
    "#convert to np array\n",
    "after = np.array(data_cube)"
   ]
  },
  {
   "cell_type": "markdown",
   "metadata": {},
   "source": [
    "# Visualize Data"
   ]
  },
  {
   "cell_type": "code",
<<<<<<< HEAD
   "execution_count": 148,
=======
   "execution_count": 5,
>>>>>>> f7099a001810edcdd1737cfecf5fd646a67a8c9d
   "metadata": {},
   "outputs": [],
   "source": [
    "#Hypercube in the form of an np.array\n",
    "data = after\n",
    "#Dimensions of the np.array hypercube\n",
    "data_shape = before.shape\n",
    "#wv is an array of wavelengths, incremented 1 at a time\n",
    "wv = [i for i in range(start_wavelength,end_wavelength+1)]\n",
    "#??\n",
    "fig, ax = plt.subplots(1, 1)\n",
    "\n",
    "#IndexTracker does what?\n",
    "tracker = IndexTracker(ax, np.resize(data[np.isfinite(data)], data_shape), wv,  \\\n",
    "wv_min = start_wavelength, wv_max = end_wavelength, wv_step = 1,\\\n",
    "cmin = 0, cmax = 10)#3 * np.mean(data[np.isfinite(data)]))\n",
    "\n",
    "\n",
    "fig.canvas.mpl_connect('scroll_event', tracker.onscroll)\n",
    "plt.show()"
   ]
  },
  {
   "cell_type": "code",
   "execution_count": 141,
   "metadata": {},
   "outputs": [],
   "source": [
    "#get current matrix data\n",
    "currArray = tracker.currArray\n",
    "#top corner x-coordinate\n",
    "x_top = tracker.x\n",
    "#top corner y-coordinate\n",
    "y_top = tracker.y"
   ]
  },
  {
   "cell_type": "code",
   "execution_count": 146,
   "metadata": {},
   "outputs": [],
   "source": [
    "#visualize current rectangular matrix image\n",
    "plt.imshow(currArray, cmap = 'gray')\n",
    "plt.clim(0,10)"
   ]
  },
  {
<<<<<<< HEAD
   "cell_type": "code",
   "execution_count": 135,
   "metadata": {},
   "outputs": [
    {
     "data": {
      "text/plain": [
       "549"
      ]
     },
     "execution_count": 135,
     "metadata": {},
     "output_type": "execute_result"
    }
   ],
   "source": [
    "y_top"
   ]
  },
  {
   "cell_type": "code",
   "execution_count": 151,
   "metadata": {},
   "outputs": [],
   "source": [
    "#Hypercube in the form of an np.array of before image\n",
    "data = before\n",
    "#Dimensions of the np.array hypercube\n",
    "data_shape = before.shape\n",
    "#wv is an array of wavelengths, incremented 1 at a time\n",
    "wv = [i for i in range(start_wavelength,end_wavelength+1)]\n",
    "#??\n",
    "fig, ax = plt.subplots(1, 1)\n",
    "\n",
    "#IndexTracker does what?\n",
    "tracker2 = IndexTracker(ax, np.resize(data[np.isfinite(data)], data_shape), wv,  \\\n",
    "wv_min = start_wavelength, wv_max = end_wavelength, wv_step = 1,\\\n",
    "cmin = 0, cmax = 10)#3 * np.mean(data[np.isfinite(data)]))\n",
    "\n",
    "\n",
    "fig.canvas.mpl_connect('scroll_event', tracker.onscroll)\n",
    "plt.show()"
   ]
  },
  {
   "cell_type": "code",
   "execution_count": 152,
   "metadata": {},
   "outputs": [],
   "source": [
    "#get current matrix data for before\n",
    "currArray2 = tracker2.currArray\n",
    "#top corner x-coordinate\n",
    "x_top2 = tracker2.x\n",
    "#top corner y-coordinate\n",
    "y_top2 = tracker2.y"
   ]
  },
  {
   "cell_type": "code",
   "execution_count": 153,
   "metadata": {},
   "outputs": [],
   "source": [
    "#visualize rectangular image for before\n",
    "plt.imshow(currArray2, cmap = 'gray')\n",
    "plt.clim(0,10)"
   ]
  },
  {
   "cell_type": "code",
   "execution_count": 6,
   "metadata": {},
   "outputs": [
    {
     "name": "stdout",
     "output_type": "stream",
     "text": [
      "(2048, 2048)\n"
     ]
    }
   ],
   "source": [
    "img = before[4]\n",
    "print(img.shape)"
   ]
  },
  {
   "cell_type": "code",
   "execution_count": 2,
   "metadata": {
    "scrolled": true
   },
   "outputs": [
    {
     "data": {
      "text/html": [
       "<style>.container { width:100% !important; }</style>"
      ],
      "text/plain": [
       "<IPython.core.display.HTML object>"
      ]
     },
     "metadata": {},
     "output_type": "display_data"
    },
    {
     "data": {
      "text/html": [
       "<style>.output_result { max-width:100% !important; }</style>"
      ],
      "text/plain": [
       "<IPython.core.display.HTML object>"
      ]
     },
     "metadata": {},
     "output_type": "display_data"
    }
   ],
   "source": [
    "#Setting JupyterNotebook to full screen\n",
    "\n",
    "#from IPython.core.display import display, HTML\n",
    "#display(HTML(\"<style>.container { width:100% !important; }</style>\"))\n",
    "#display(HTML(\"<style>.output_result { max-width:100% !important; }</style>\"))"
   ]
  },
  {
   "cell_type": "code",
   "execution_count": 115,
   "metadata": {},
   "outputs": [
    {
     "name": "stdout",
     "output_type": "stream",
     "text": [
      "3922.5\n",
      "0.33045977\n",
      "[[8.218554  7.354376  8.134675  ... 7.026359  7.0130935 6.9502573]\n",
      " [7.808642  7.1683598 7.704412  ... 6.0357676 6.4391785 6.1259484]\n",
      " [7.692542  7.6708074 7.4014926 ... 6.413183  6.4731545 6.3056993]\n",
      " ...\n",
      " [7.874269  6.715818  7.7702703 ... 7.4103055 6.949324  6.40931  ]\n",
      " [6.944954  7.5076494 7.142069  ... 7.0767946 7.229682  7.3232684]\n",
      " [6.991914  8.190616  6.93395   ... 7.58843   8.010601  8.849699 ]]\n",
      "[ 476 1182 1154 ...    0    0    1]\n",
      "[3.3045977e-01 1.1148937e+00 1.8993276e+00 ... 3.9209312e+03 3.9217156e+03\n",
      " 3.9225000e+03]\n"
     ]
    }
   ],
   "source": [
    "#Mike getting a basic image to show up\n",
    "import cv2 as cv\n",
    "img = before[2]\n",
    "data_shape = img.shape\n",
    "#img = np.resize(img[np.isfinite(img)], data_shape)\n",
    "### Where is the data?\n",
    "print(np.amax(img ))\n",
    "print(np.amin(img))\n",
    "print(img)\n",
    "hist, bin_edges=np.histogram(img, bins=5000, range=None, normed=None, weights=None, density=None)\n",
    "print(hist)\n",
    "print(bin_edges)\n",
    "##### End of where is the data stuff\n",
    "fig, ax = plt.subplots()\n",
    "#Normalize the data for viewing with an 8bit viewer like imshow\n",
    "dst\t= cv.normalize(img, None, 0, 65500, cv2.NORM_MINMAX, dtype=cv2.CV_8U)\n",
    "#colormap for contrast\n",
    "#color = cv2.applyColorMap(dst, cv2.COLORMAP_JET)\n",
    "\n",
    "im = ax.imshow(dst, interpolation='nearest',\n",
    "               vmin=50, vmax=70)\n",
    "fig.colorbar(im)\n",
    "plt.show()\n",
    "\n",
    "\n",
    "#Displaying the normalized data\n",
    "cv2.imshow('before',dst)\n",
    "\n",
    "\n",
    "    "
   ]
  },
  {
=======
>>>>>>> f7099a001810edcdd1737cfecf5fd646a67a8c9d
   "cell_type": "markdown",
   "metadata": {},
   "source": [
    "For Andrew - assuming imports are run at the top of the document, the following cell should generate about 5 Hough circles. I have exported them as a list, though feel free to adjust that if something else would work better for you."
   ]
  },
  {
   "cell_type": "code",
   "execution_count": 6,
   "metadata": {},
   "outputs": [
    {
     "name": "stdout",
     "output_type": "stream",
     "text": [
      "shape of the before image circle results\n",
      "(1, 26, 3)\n",
      "List of the circle results from the -after image- Hough transform- x,y,radius\n",
      "[[[  81.5 1643.5  104.9]\n",
      "  [ 691.5 1946.5   97.1]\n",
      "  [ 704.5  398.5   95.7]\n",
      "  [  70.5 1928.5  104.9]\n",
      "  [ 703.5  705.5   95.3]\n",
      "  [ 693.5 1634.5   96. ]\n",
      "  [ 700.5 1013.5   94.6]\n",
      "  [ 697.5 1327.5   93.6]\n",
      "  [  91.5  391.5  101.7]\n",
      "  [1306.5 1917.5   95.9]\n",
      "  [1314.5 1623.5   97.2]\n",
      "  [1937.5 1326.5   96. ]\n",
      "  [1940.5 1012.5   95.6]\n",
      "  [1953.5   83.5   95.6]\n",
      "  [ 708.5   84.5   94.2]\n",
      "  [1948.5  703.5   96.7]\n",
      "  [  94.5   88.5   99.4]\n",
      "  [1930.5 1950.5   97.1]\n",
      "  [1948.5  396.5   93.2]\n",
      "  [1934.5 1643.5   91.4]\n",
      "  [  77.5 1315.5  109.4]]]\n",
      "[array([ 692, 1946,   97], dtype=uint16), array([704, 398,  96], dtype=uint16), array([704, 706,  95], dtype=uint16), array([ 694, 1634,   96], dtype=uint16), array([ 700, 1014,   95], dtype=uint16), array([ 698, 1328,   94], dtype=uint16), array([708,  84,  94], dtype=uint16)]\n",
      "[array([ 716, 1336,   98], dtype=uint16), array([ 716, 1018,   96], dtype=uint16), array([ 712, 1960,  100], dtype=uint16), array([ 714, 1644,  100], dtype=uint16), array([722, 718, 102], dtype=uint16), array([728, 418, 107], dtype=uint16), array([714,  88, 102], dtype=uint16)]\n"
     ]
    }
   ],
   "source": [
    "## Playing with Hough circles\n",
    "##Maybe iterate through different param1 values and see which gives best results by some metric\n",
    "import cv2 as cv\n",
    "###########################Load data######################\n",
    "#Load Before Datacube\n",
    "folder_name = \"5\"\n",
    "start_wavelength = 651\n",
    "end_wavelength = 660\n",
    "\n",
    "spectra = loadmat(\"./CS766ProjectDataset/{folder}/Before/{start_wv}.mat\".format(start_wv = start_wavelength, folder = folder_name))\n",
    "spectra = np.array(spectra['spectra'])\n",
    "data_cube = [spectra]\n",
    "for i in range(start_wavelength + 1,end_wavelength +1):\n",
    "    #placeholder\n",
    "    a = loadmat(\"./CS766ProjectDataset/{folder}/Before/{start_wv}.mat\".format(start_wv = i, folder = folder_name))\n",
    "    data_cube.append(np.array(a['spectra']))\n",
    "#convert to np array\n",
    "before = np.array(data_cube)\n",
    "\n",
    "#load After Datacube\n",
    "\n",
    "spectra = loadmat(\"./CS766ProjectDataset/{folder}/After/{start_wv}.mat\".format(start_wv = start_wavelength, folder = folder_name))\n",
    "spectra = np.array(spectra['spectra'])\n",
    "data_cube = [spectra]\n",
    "for i in range(start_wavelength + 1,end_wavelength +1):\n",
    "    #placeholder\n",
    "    a = loadmat(\"./CS766ProjectDataset/{folder}/After/{start_wv}.mat\".format(start_wv = i, folder = folder_name))\n",
    "    data_cube.append(np.array(a['spectra']))\n",
    "#convert to np array\n",
    "after = np.array(data_cube)\n",
    "############################Done Loading Data#######################\n",
    "\n",
    "wavelength = 2 #Technically 650+wavelength, but this gets the correct position in the image stack\n",
    "beforeSingleWavelength = before[wavelength]\n",
    "afterSingleWavelength = after[wavelength]\n",
    "#img = (img16/256).astype('uint8')\n",
    "#img = cv.GaussianBlur( img, (9, 9), 0 );\n",
    "\n",
    "#cv.imshow('detected circles',cimg)\n",
    "dst\t= cv.normalize(beforeSingleWavelength, None, 0, 65500, cv2.NORM_MINMAX, dtype=cv2.CV_8U)\n",
    "cimg = cv.cvtColor(dst,cv.COLOR_GRAY2BGR)\n",
    "dst = cv.medianBlur(dst, 3)\n",
    "dts = cv.GaussianBlur( dst, (9, 9), 2 )\n",
    "#cv2.imshow('before',dst)\n",
    "#Hough circle transform https://docs.opencv.org/4.x/dd/d1a/group__imgproc__feature.html#ga47849c3be0d0406ad3ca45db65a25d2d\n",
    "# One of the most important features is param1. Min and max raidus will need to be determined based on batch varaition\n",
    "\n",
    "circles = cv.HoughCircles(dts,cv.HOUGH_GRADIENT,1,250,param1=18,param2=15,minRadius=90,maxRadius=110)\n",
    "print(\"shape of the before image circle results\")\n",
    "#print(circles)\n",
    "print(circles.shape)\n",
    "#show blurred image\n",
    "if circles is not None:\n",
    "    circles = np.uint16(np.around(circles))\n",
    "\n",
    "    for i in circles[0,:]:\n",
    "        # draw the outer circle\n",
    "        cv.circle(cimg,(i[0],i[1]),i[2],(0,255,0),2)\n",
    "        # draw the center of the circle\n",
    "        cv.circle(cimg,(i[0],i[1]),2,(0,0,255),3)\n",
    "    #Show before image with circles drown on\n",
    "    cv.imshow('detected circles before',cimg)\n",
    "\n",
    "#cv.imshow('detected circles',cimg)\n",
    "dsta\t= cv.normalize(afterSingleWavelength, None, 0, 65500, cv2.NORM_MINMAX, dtype=cv2.CV_8U)\n",
    "cimga = cv.cvtColor(dsta,cv.COLOR_GRAY2BGR)\n",
    "dsta = cv.medianBlur(dsta, 3)\n",
    "dtsa = cv.GaussianBlur( dsta, (9, 9), 2 )\n",
    "#cv2.imshow('after',dsta)\n",
    "#Hough circle transform https://docs.opencv.org/4.x/dd/d1a/group__imgproc__feature.html#ga47849c3be0d0406ad3ca45db65a25d2d\n",
    "# One of the most important features is param1. Min and max raidus will need to be determined based on batch varaition\n",
    "\n",
    "circlesa = cv.HoughCircles(dtsa,cv.HOUGH_GRADIENT,1,250,param1=20,param2=15,minRadius=90,maxRadius=110)\n",
    "print(\"List of the circle results from the -after image- Hough transform- x,y,radius\")\n",
    "print(circlesa)\n",
    "beforeCircles = []\n",
    "afterCircles = []\n",
    "if circlesa is not None:\n",
    "    circlesa = np.uint16(np.around(circlesa))\n",
    "\n",
    "    for i in circlesa[0,:]:\n",
    "        # draw the outer circle\n",
    "        cv.circle(cimga,(i[0],i[1]),i[2],(0,255,0),2)\n",
    "        # draw the center of the circle\n",
    "        cv.circle(cimga,(i[0],i[1]),2,(0,0,255),3)\n",
    "        \n",
    "    #Show after image with circles drown on\n",
    "    cv.imshow('detected circles after',cimga)\n",
    "    \n",
    "    \n",
    "    #Find only a certain number of circles within the images, so that those can be passed to the next step\n",
    "    for x in range(0,len(circles[0])):\n",
    "        if circles[0][x][0] > 690 and circles[0][x][0] <740:\n",
    "            beforeCircles.append(circles[0][x])\n",
    "    for x in range(0,len(circlesa[0])):\n",
    "        if circlesa[0][x][0] > 690 and circlesa[0][x][0] <740:\n",
    "            #print(x)\n",
    "            #print(circlesa[0][x][0])\n",
    "            afterCircles.append(circlesa[0][x]) \n",
    "print(afterCircles)\n",
    "print(beforeCircles)\n",
    "            "
   ]
  },
  {
   "cell_type": "code",
   "execution_count": null,
   "metadata": {},
   "outputs": [],
   "source": [
    "##Transform images named\n",
    "#beforeSingleWavelength\n",
    "#afterSingleWavelength\n",
    "#which were defined in the cell above. Use the coordinates stored in\n",
    "#beforeCircles\n",
    "#afterCircles\n",
    "#as [x y radius]\n",
    "\n"
   ]
  }
 ],
 "metadata": {
  "kernelspec": {
   "display_name": "Python 3",
   "language": "python",
   "name": "python3"
  },
  "language_info": {
   "codemirror_mode": {
    "name": "ipython",
    "version": 3
   },
   "file_extension": ".py",
   "mimetype": "text/x-python",
   "name": "python",
   "nbconvert_exporter": "python",
   "pygments_lexer": "ipython3",
   "version": "3.8.8"
  }
 },
 "nbformat": 4,
 "nbformat_minor": 4
}
