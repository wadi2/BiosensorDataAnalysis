{
 "cells": [
  {
   "cell_type": "code",
   "execution_count": 1,
   "metadata": {},
   "outputs": [],
   "source": [
    "#1\n",
    "%matplotlib qt"
   ]
  },
  {
   "cell_type": "code",
   "execution_count": 2,
   "metadata": {},
   "outputs": [],
   "source": [
    "#2\n",
    "#import stuffs\n",
    "import matplotlib.pyplot as plt\n",
    "import numpy as np\n",
    "import pandas as pd\n",
    "from scipy import ndimage, signal\n",
    "import os, fnmatch, glob, re, time\n",
    "from scipy.io import loadmat, savemat\n",
    "from matplotlib.colors import BoundaryNorm, ListedColormap\n",
    "from matplotlib import colors\n",
    "from matplotlib.widgets import RectangleSelector\n",
    "import cv2\n",
    "import cv2 as cv\n",
    "from PIL import Image\n",
    "# for ginput\n",
    "#https://medium.com/@vyshali.enukonda/how-to-get-around-runtimeerror-this-event-loop-is-already-running-3f26f67e762e\n",
    "import nest_asyncio\n",
    "nest_asyncio.apply()\n",
    "class StopExecution(Exception):\n",
    "    def _render_traceback_(self):\n",
    "        pass\n",
    "\n"
   ]
  },
  {
   "cell_type": "markdown",
   "metadata": {},
   "source": [
    "\n",
    "# Image Slices Viewer\n",
    "\n",
    "\n",
    "Scroll through 2D image slices of a 3D array. https://matplotlib.org/2.1.2/gallery/animation/image_slices_viewer.html\n",
    "\n"
   ]
  },
  {
   "cell_type": "code",
   "execution_count": 6,
   "metadata": {},
   "outputs": [],
   "source": [
    "#3\n",
    "from __future__ import print_function\n",
    "\n",
    "\n",
    "class IndexTracker(object):\n",
    "    def __init__(self, ax, X, wv, info = pd.DataFrame({\"exposure\" : [\" \"], \"power\" : [\" \"], \"chipname\" : [\" \"]}),\\\n",
    "                 wv_min = 0, wv_max = 1, wv_step = 1, cmin = 0, cmax = 10000):\n",
    "        self.ax = ax\n",
    "        self.wv_min = wv_min\n",
    "        self.wv_max = wv_max\n",
    "        self.wv_step = wv_step\n",
    "        self.wv = wv\n",
    "        \n",
    "        ax.set_title('{chipname} at {power}% laser power, {exposure} ms exposure time'.format(chipname = info[\"chipname\"].item(),\\\n",
    "                    power = info[\"power\"].item(), exposure = info[\"exposure\"].item()))\n",
    "        \n",
    "       \n",
    "        \n",
    "        self.X = X\n",
    "        self.slices, rows, cols = X.shape\n",
    "        #start with first slice\n",
    "        self.ind = 0\n",
    "\n",
    "        self.im = ax.imshow(self.X[self.ind, :,:], cmap = 'gray')\n",
    "        plt.colorbar(self.im, label = \"[a.u.]\")#, ax = self.ax)\n",
    "        self.im.set_clim(vmin = cmin, vmax = cmax)    \n",
    "        self.update()\n",
    "        \n",
    "        \n",
    "        \n",
    "        \n",
    "        #self.rect = RectangleSelector(self.ax, self.line_select_callback,\n",
    "        #                               drawtype='box', useblit=True,\n",
    "        #                               button=[1, 3],  # don't use middle button\n",
    "        #                               minspanx=5, minspany=5,\n",
    "        #                               spancoords='pixels',\n",
    "        #                               interactive=True)\n",
    "\n",
    "        #plt.connect('key_press_event', self.rect)\n",
    "        \n",
    " \n",
    "        #Create place holder for spectrum and second figure\n",
    "        #self.spectrum = np.zeros(self.X.shape[0])\n",
    "        #self.fig2, self.ax2 = plt.subplots(1,1)\n",
    "        #self.ax2.set_title('{chipname} at {power}% laser power, {exposure} ms exposure time'.format(chipname = info[\"chipname\"].item(),\\\n",
    "        #            power = info[\"power\"].item(), exposure = info[\"exposure\"].item()))\n",
    "        #self.ax2.plot(range(self.wv_min, self.wv_max +1), self.spectrum)\n",
    "        #self.ax2.set_xlabel(\"Wavelength[nm]\")\n",
    "        #self.ax2.set_ylabel(\"Signal [a.u.]\")\n",
    "        \n",
    "        #Create place holder for spectrum and second figure\n",
    "        #get currArray\n",
    "        self.currArray = self.X[self.ind, 0:900, 0:300 ]\n",
    "        #get coordinates at top left\n",
    "        self.x = 0\n",
    "        self.y = 0\n",
    "        self.fig3, self.ax3 = plt.subplots(1,1)\n",
    "        self.ax3.im = self.ax3.imshow(self.X[self.ind, 0:900, 0:300 ], cmap = 'gray')\n",
    "        plt.colorbar(self.ax3.im, label = \"[a.u.]\")\n",
    "        self.ax3.im.set_clim(vmin = cmin, vmax = cmax)    \n",
    "        self.update()\n",
    "        \n",
    "\n",
    "        def onclick(event):\n",
    "            coord =  plt.ginput()\n",
    "            print(coord)\n",
    "            start_x = int(coord[0][0])-150\n",
    "            end_x = int(coord[0][0])+150\n",
    "            \n",
    "            self.x = int(coord[0][0])-150\n",
    "            self.y = int(coord[0][1])-450\n",
    "\n",
    "            start_y = int(coord[0][1])-450\n",
    "            end_y = int(coord[0][1])+450\n",
    "            if start_x < 0: \n",
    "                start_x = 0\n",
    "                self.x = 0\n",
    "            if end_x > 2048:\n",
    "                end_x = 2047\n",
    "            if start_y < 0: \n",
    "                start_y = 0\n",
    "                self.y = 0\n",
    "            if end_y > 2048:\n",
    "                end_y = 2047\n",
    "            \n",
    "            self.ax3.im.set_data(self.X[self.ind,start_y:end_y,\\\n",
    "                                    start_x:end_x])\n",
    "            self.ax3.im.axes.figure.canvas.draw()\n",
    "            #savemat(\"./currColumn.mat\", {\"Column\" : self.X[self.ind,:,int(coord[0][0])-150:int(coord[0][0])+150],\\\n",
    "            #                            \"x\" : coord[0][0], \"y\" : coord[0][1]})\n",
    "            self.currArray = self.X[self.ind,start_y:end_y,\\\n",
    "                                    start_x:end_x]\n",
    "            \n",
    "        fig.canvas.mpl_connect('button_press_event', onclick)\n",
    "\n",
    "\n",
    "        \n",
    "\n",
    "    def onscroll(self, event):\n",
    "        #print(\"%s %s\" % (event.button, event.step))\n",
    "        if event.button == 'up':\n",
    "            self.ind = (self.ind + 1) % self.slices\n",
    "        else:\n",
    "            self.ind = (self.ind - 1) % self.slices\n",
    "        self.update()\n",
    "\n",
    "    def update(self):\n",
    "        self.im.set_data(self.X[self.ind, :, :])\n",
    "        ax.set_ylabel('Wavelength {wv:.2f} nm'.format(wv = self.wv[self.ind]))\n",
    "        self.im.axes.figure.canvas.draw()\n",
    "        \n",
    "        \n",
    "    #def line_select_callback(self, eclick, erelease):\n",
    "    #    #'eclick and erelease are the press and release events'\n",
    "    #    #x and y are interchanged, because the first dimension is the rows, therefore in representation it becomes the y\n",
    "    #    self.y1, self.x1 = eclick.xdata, eclick.ydata\n",
    "    #    self.y2, self.x2 = erelease.xdata, erelease.ydata\n",
    "        \n",
    "    #    print(\"Click Coordinate (%3.2f, %3.2f) --> Release Coordinate(%3.2f, %3.2f)\" % (eclick.xdata, eclick.ydata, erelease.xdata, erelease.ydata))\n",
    "    #    print(\"The average intensity is %3.2f\" % (np.nanmean(self.X[self.ind, \\\n",
    "    #                                                            int(self.x1):int(self.x2),\n",
    "    #                                                            int(self.y1):int(self.y2)])))\n",
    "    #    self.spectrum = np.array([np.nanmean(self.X[i, int(self.x1):int(self.x2), int(self.y1):int(self.y2)]) for i in range(self.X.shape[0])])\n",
    "    #    self.idx = np.where(self.spectrum==self.spectrum.max())[0]\n",
    "    #    self.ax2.plot(range(self.wv_min, self.wv_max +1), self.spectrum, label = \"Peak at %.2f nm \\n [%.0f:%.0f, %.0f:%.0f]\" % (self.wv[self.ind],self.x1, self.x2, self.y1, self.y2))\n",
    "    #    self.ax2.legend()\n",
    "    #    self.fig2.canvas.draw()\n",
    "    #    #print(\" The button you used were: %s %s\" % (eclick.button, erelease.button))\n",
    "\n",
    "        \n",
    "        "
   ]
  },
  {
   "cell_type": "markdown",
   "metadata": {},
   "source": [
    "# Load Data"
   ]
  },
  {
   "cell_type": "code",
   "execution_count": 4,
   "metadata": {},
   "outputs": [],
   "source": [
    "#4\n",
    "#Load Before Datacube\n",
    "folder_name = \"18\"\n",
    "start_wavelength = 651\n",
    "end_wavelength = 660\n",
    "\n",
    "spectra = loadmat(\"./CS766ProjectDataset/{folder}/Before/{start_wv}.mat\".format(start_wv = start_wavelength, folder = folder_name))\n",
    "spectra = np.array(spectra['spectra'])\n",
    "data_cube = [spectra]\n",
    "for i in range(start_wavelength + 1,end_wavelength +1):\n",
    "    #placeholder\n",
    "    a = loadmat(\"./CS766ProjectDataset/{folder}/Before/{start_wv}.mat\".format(start_wv = i, folder = folder_name))\n",
    "    data_cube.append(np.array(a['spectra']))\n",
    "#convert to np array\n",
    "before = np.array(data_cube)\n",
    "\n",
    "#load After Datacube\n",
    "\n",
    "spectra = loadmat(\"./CS766ProjectDataset/{folder}/After/{start_wv}.mat\".format(start_wv = start_wavelength, folder = folder_name))\n",
    "spectra = np.array(spectra['spectra'])\n",
    "data_cube = [spectra]\n",
    "for i in range(start_wavelength + 1,end_wavelength +1):\n",
    "    #placeholder\n",
    "    a = loadmat(\"./CS766ProjectDataset/{folder}/After/{start_wv}.mat\".format(start_wv = i, folder = folder_name))\n",
    "    data_cube.append(np.array(a['spectra']))\n",
    "#convert to np array\n",
    "after = np.array(data_cube)\n",
    "wavelength = 2 #Technically 650+wavelength, but this gets the correct position in the image stack\n",
    "beforeSingleWavelength = before[wavelength]\n",
    "afterSingleWavelength = after[wavelength]\n"
   ]
  },
  {
   "cell_type": "markdown",
   "metadata": {},
   "source": [
    "# Visualize Data"
   ]
  },
  {
   "cell_type": "code",
   "execution_count": 7,
   "metadata": {},
   "outputs": [
    {
     "name": "stderr",
     "output_type": "stream",
     "text": [
      "Traceback (most recent call last):\n",
      "  File \"C:\\Users\\wadi2\\Anaconda3\\envs\\DataCube\\lib\\site-packages\\matplotlib\\cbook\\__init__.py\", line 224, in process\n",
      "    func(*args, **kwargs)\n",
      "  File \"<ipython-input-6-72976a0944d7>\", line 65, in onclick\n",
      "    coord =  plt.ginput()\n",
      "  File \"C:\\Users\\wadi2\\Anaconda3\\envs\\DataCube\\lib\\site-packages\\matplotlib\\pyplot.py\", line 2383, in ginput\n",
      "    return gcf().ginput(\n",
      "  File \"C:\\Users\\wadi2\\Anaconda3\\envs\\DataCube\\lib\\site-packages\\matplotlib\\figure.py\", line 2453, in ginput\n",
      "    return blocking_mouse_input(n=n, timeout=timeout,\n",
      "  File \"C:\\Users\\wadi2\\Anaconda3\\envs\\DataCube\\lib\\site-packages\\matplotlib\\blocking_input.py\", line 267, in __call__\n",
      "    BlockingInput.__call__(self, n=n, timeout=timeout)\n",
      "  File \"C:\\Users\\wadi2\\Anaconda3\\envs\\DataCube\\lib\\site-packages\\matplotlib\\blocking_input.py\", line 93, in __call__\n",
      "    self.fig.canvas.start_event_loop(timeout=timeout)\n",
      "  File \"C:\\Users\\wadi2\\Anaconda3\\envs\\DataCube\\lib\\site-packages\\matplotlib\\backends\\backend_qt5.py\", line 429, in start_event_loop\n",
      "    raise RuntimeError(\"Event loop already running\")\n",
      "RuntimeError: Event loop already running\n"
     ]
    },
    {
     "name": "stdout",
     "output_type": "stream",
     "text": [
      "[(64.88528138528068, 1032.3658008658006)]\n"
     ]
    },
    {
     "name": "stderr",
     "output_type": "stream",
     "text": [
      "Traceback (most recent call last):\n",
      "  File \"C:\\Users\\wadi2\\Anaconda3\\envs\\DataCube\\lib\\site-packages\\matplotlib\\cbook\\__init__.py\", line 224, in process\n",
      "    func(*args, **kwargs)\n",
      "  File \"<ipython-input-6-72976a0944d7>\", line 65, in onclick\n",
      "    coord =  plt.ginput()\n",
      "  File \"C:\\Users\\wadi2\\Anaconda3\\envs\\DataCube\\lib\\site-packages\\matplotlib\\pyplot.py\", line 2383, in ginput\n",
      "    return gcf().ginput(\n",
      "  File \"C:\\Users\\wadi2\\Anaconda3\\envs\\DataCube\\lib\\site-packages\\matplotlib\\figure.py\", line 2453, in ginput\n",
      "    return blocking_mouse_input(n=n, timeout=timeout,\n",
      "  File \"C:\\Users\\wadi2\\Anaconda3\\envs\\DataCube\\lib\\site-packages\\matplotlib\\blocking_input.py\", line 267, in __call__\n",
      "    BlockingInput.__call__(self, n=n, timeout=timeout)\n",
      "  File \"C:\\Users\\wadi2\\Anaconda3\\envs\\DataCube\\lib\\site-packages\\matplotlib\\blocking_input.py\", line 93, in __call__\n",
      "    self.fig.canvas.start_event_loop(timeout=timeout)\n",
      "  File \"C:\\Users\\wadi2\\Anaconda3\\envs\\DataCube\\lib\\site-packages\\matplotlib\\backends\\backend_qt5.py\", line 429, in start_event_loop\n",
      "    raise RuntimeError(\"Event loop already running\")\n",
      "RuntimeError: Event loop already running\n"
     ]
    },
    {
     "name": "stdout",
     "output_type": "stream",
     "text": [
      "[(369.6471861471855, 1060.0714285714282)]\n"
     ]
    },
    {
     "name": "stderr",
     "output_type": "stream",
     "text": [
      "Traceback (most recent call last):\n",
      "  File \"C:\\Users\\wadi2\\Anaconda3\\envs\\DataCube\\lib\\site-packages\\matplotlib\\cbook\\__init__.py\", line 224, in process\n",
      "    func(*args, **kwargs)\n",
      "  File \"<ipython-input-6-72976a0944d7>\", line 65, in onclick\n",
      "    coord =  plt.ginput()\n",
      "  File \"C:\\Users\\wadi2\\Anaconda3\\envs\\DataCube\\lib\\site-packages\\matplotlib\\pyplot.py\", line 2383, in ginput\n",
      "    return gcf().ginput(\n",
      "  File \"C:\\Users\\wadi2\\Anaconda3\\envs\\DataCube\\lib\\site-packages\\matplotlib\\figure.py\", line 2453, in ginput\n",
      "    return blocking_mouse_input(n=n, timeout=timeout,\n",
      "  File \"C:\\Users\\wadi2\\Anaconda3\\envs\\DataCube\\lib\\site-packages\\matplotlib\\blocking_input.py\", line 267, in __call__\n",
      "    BlockingInput.__call__(self, n=n, timeout=timeout)\n",
      "  File \"C:\\Users\\wadi2\\Anaconda3\\envs\\DataCube\\lib\\site-packages\\matplotlib\\blocking_input.py\", line 93, in __call__\n",
      "    self.fig.canvas.start_event_loop(timeout=timeout)\n",
      "  File \"C:\\Users\\wadi2\\Anaconda3\\envs\\DataCube\\lib\\site-packages\\matplotlib\\backends\\backend_qt5.py\", line 429, in start_event_loop\n",
      "    raise RuntimeError(\"Event loop already running\")\n",
      "RuntimeError: Event loop already running\n"
     ]
    },
    {
     "name": "stdout",
     "output_type": "stream",
     "text": [
      "[(59.344155844155125, 1032.3658008658006)]\n"
     ]
    },
    {
     "name": "stderr",
     "output_type": "stream",
     "text": [
      "Traceback (most recent call last):\n",
      "  File \"C:\\Users\\wadi2\\Anaconda3\\envs\\DataCube\\lib\\site-packages\\matplotlib\\cbook\\__init__.py\", line 224, in process\n",
      "    func(*args, **kwargs)\n",
      "  File \"<ipython-input-6-72976a0944d7>\", line 65, in onclick\n",
      "    coord =  plt.ginput()\n",
      "  File \"C:\\Users\\wadi2\\Anaconda3\\envs\\DataCube\\lib\\site-packages\\matplotlib\\pyplot.py\", line 2383, in ginput\n",
      "    return gcf().ginput(\n",
      "  File \"C:\\Users\\wadi2\\Anaconda3\\envs\\DataCube\\lib\\site-packages\\matplotlib\\figure.py\", line 2453, in ginput\n",
      "    return blocking_mouse_input(n=n, timeout=timeout,\n",
      "  File \"C:\\Users\\wadi2\\Anaconda3\\envs\\DataCube\\lib\\site-packages\\matplotlib\\blocking_input.py\", line 267, in __call__\n",
      "    BlockingInput.__call__(self, n=n, timeout=timeout)\n",
      "  File \"C:\\Users\\wadi2\\Anaconda3\\envs\\DataCube\\lib\\site-packages\\matplotlib\\blocking_input.py\", line 93, in __call__\n",
      "    self.fig.canvas.start_event_loop(timeout=timeout)\n",
      "  File \"C:\\Users\\wadi2\\Anaconda3\\envs\\DataCube\\lib\\site-packages\\matplotlib\\backends\\backend_qt5.py\", line 429, in start_event_loop\n",
      "    raise RuntimeError(\"Event loop already running\")\n",
      "RuntimeError: Event loop already running\n"
     ]
    },
    {
     "name": "stdout",
     "output_type": "stream",
     "text": [
      "[(59.344155844155125, 1048.989177489177)]\n"
     ]
    },
    {
     "name": "stderr",
     "output_type": "stream",
     "text": [
      "Traceback (most recent call last):\n",
      "  File \"C:\\Users\\wadi2\\Anaconda3\\envs\\DataCube\\lib\\site-packages\\matplotlib\\cbook\\__init__.py\", line 224, in process\n",
      "    func(*args, **kwargs)\n",
      "  File \"<ipython-input-6-72976a0944d7>\", line 65, in onclick\n",
      "    coord =  plt.ginput()\n",
      "  File \"C:\\Users\\wadi2\\Anaconda3\\envs\\DataCube\\lib\\site-packages\\matplotlib\\pyplot.py\", line 2383, in ginput\n",
      "    return gcf().ginput(\n",
      "  File \"C:\\Users\\wadi2\\Anaconda3\\envs\\DataCube\\lib\\site-packages\\matplotlib\\figure.py\", line 2453, in ginput\n",
      "    return blocking_mouse_input(n=n, timeout=timeout,\n",
      "  File \"C:\\Users\\wadi2\\Anaconda3\\envs\\DataCube\\lib\\site-packages\\matplotlib\\blocking_input.py\", line 267, in __call__\n",
      "    BlockingInput.__call__(self, n=n, timeout=timeout)\n",
      "  File \"C:\\Users\\wadi2\\Anaconda3\\envs\\DataCube\\lib\\site-packages\\matplotlib\\blocking_input.py\", line 93, in __call__\n",
      "    self.fig.canvas.start_event_loop(timeout=timeout)\n",
      "  File \"C:\\Users\\wadi2\\Anaconda3\\envs\\DataCube\\lib\\site-packages\\matplotlib\\backends\\backend_qt5.py\", line 429, in start_event_loop\n",
      "    raise RuntimeError(\"Event loop already running\")\n",
      "RuntimeError: Event loop already running\n"
     ]
    },
    {
     "name": "stdout",
     "output_type": "stream",
     "text": [
      "[(26.09740259740181, 1015.742424242424)]\n"
     ]
    }
   ],
   "source": [
    "#5\n",
    "#PICK POINT FOR SET OF THREE IN FIRST IMAGE\n",
    "#Hypercube in the form of an np.array\n",
    "data = after\n",
    "#Dimensions of the np.array hypercube\n",
    "data_shape = before.shape\n",
    "#wv is an array of wavelengths, incremented 1 at a time\n",
    "wv = [i for i in range(start_wavelength,end_wavelength+1)]\n",
    "#??\n",
    "fig, ax = plt.subplots(1, 1)\n",
    "\n",
    "#IndexTracker does what?\n",
    "tracker = IndexTracker(ax, np.resize(data[np.isfinite(data)], data_shape), wv,  \\\n",
    "wv_min = start_wavelength, wv_max = end_wavelength, wv_step = 1,\\\n",
    "cmin = 0, cmax = 10)#3 * np.mean(data[np.isfinite(data)]))\n",
    "\n",
    "\n",
    "fig.canvas.mpl_connect('scroll_event', tracker.onscroll)\n",
    "plt.show()"
   ]
  },
  {
   "cell_type": "code",
   "execution_count": 8,
   "metadata": {},
   "outputs": [],
   "source": [
    "#I separated them again, because otherwise the variables are saved before the user choose any point\n",
    "#get current matrix data\n",
    "currArray = tracker.currArray\n",
    "#top corner x-coordinate\n",
    "x_top = tracker.x\n",
    "#top corner y-coordinate\n",
    "y_top = tracker.y"
   ]
  },
  {
   "cell_type": "code",
   "execution_count": 10,
   "metadata": {},
   "outputs": [
    {
     "data": {
      "text/plain": [
       "565"
      ]
     },
     "execution_count": 10,
     "metadata": {},
     "output_type": "execute_result"
    }
   ],
   "source": [
    "y_top"
   ]
  },
  {
   "cell_type": "code",
   "execution_count": null,
   "metadata": {},
   "outputs": [],
   "source": [
    "#visualize current rectangular matrix image\n",
    "plt.figure()\n",
    "plt.imshow(currArray, cmap = 'gray')\n",
    "plt.clim(0,10)"
   ]
  },
  {
   "cell_type": "code",
   "execution_count": 11,
   "metadata": {},
   "outputs": [
    {
     "name": "stderr",
     "output_type": "stream",
     "text": [
      "Traceback (most recent call last):\n",
      "  File \"C:\\Users\\wadi2\\Anaconda3\\envs\\DataCube\\lib\\site-packages\\matplotlib\\cbook\\__init__.py\", line 224, in process\n",
      "    func(*args, **kwargs)\n",
      "  File \"<ipython-input-6-72976a0944d7>\", line 65, in onclick\n",
      "    coord =  plt.ginput()\n",
      "  File \"C:\\Users\\wadi2\\Anaconda3\\envs\\DataCube\\lib\\site-packages\\matplotlib\\pyplot.py\", line 2383, in ginput\n",
      "    return gcf().ginput(\n",
      "  File \"C:\\Users\\wadi2\\Anaconda3\\envs\\DataCube\\lib\\site-packages\\matplotlib\\figure.py\", line 2453, in ginput\n",
      "    return blocking_mouse_input(n=n, timeout=timeout,\n",
      "  File \"C:\\Users\\wadi2\\Anaconda3\\envs\\DataCube\\lib\\site-packages\\matplotlib\\blocking_input.py\", line 267, in __call__\n",
      "    BlockingInput.__call__(self, n=n, timeout=timeout)\n",
      "  File \"C:\\Users\\wadi2\\Anaconda3\\envs\\DataCube\\lib\\site-packages\\matplotlib\\blocking_input.py\", line 93, in __call__\n",
      "    self.fig.canvas.start_event_loop(timeout=timeout)\n",
      "  File \"C:\\Users\\wadi2\\Anaconda3\\envs\\DataCube\\lib\\site-packages\\matplotlib\\backends\\backend_qt5.py\", line 429, in start_event_loop\n",
      "    raise RuntimeError(\"Event loop already running\")\n",
      "RuntimeError: Event loop already running\n"
     ]
    },
    {
     "name": "stdout",
     "output_type": "stream",
     "text": [
      "[(1943.3268398268397, 1015.742424242424)]\n"
     ]
    },
    {
     "name": "stderr",
     "output_type": "stream",
     "text": [
      "Traceback (most recent call last):\n",
      "  File \"C:\\Users\\wadi2\\Anaconda3\\envs\\DataCube\\lib\\site-packages\\matplotlib\\cbook\\__init__.py\", line 224, in process\n",
      "    func(*args, **kwargs)\n",
      "  File \"<ipython-input-6-72976a0944d7>\", line 65, in onclick\n",
      "    coord =  plt.ginput()\n",
      "  File \"C:\\Users\\wadi2\\Anaconda3\\envs\\DataCube\\lib\\site-packages\\matplotlib\\pyplot.py\", line 2383, in ginput\n",
      "    return gcf().ginput(\n",
      "  File \"C:\\Users\\wadi2\\Anaconda3\\envs\\DataCube\\lib\\site-packages\\matplotlib\\figure.py\", line 2453, in ginput\n",
      "    return blocking_mouse_input(n=n, timeout=timeout,\n",
      "  File \"C:\\Users\\wadi2\\Anaconda3\\envs\\DataCube\\lib\\site-packages\\matplotlib\\blocking_input.py\", line 267, in __call__\n",
      "    BlockingInput.__call__(self, n=n, timeout=timeout)\n",
      "  File \"C:\\Users\\wadi2\\Anaconda3\\envs\\DataCube\\lib\\site-packages\\matplotlib\\blocking_input.py\", line 93, in __call__\n",
      "    self.fig.canvas.start_event_loop(timeout=timeout)\n",
      "  File \"C:\\Users\\wadi2\\Anaconda3\\envs\\DataCube\\lib\\site-packages\\matplotlib\\backends\\backend_qt5.py\", line 429, in start_event_loop\n",
      "    raise RuntimeError(\"Event loop already running\")\n",
      "RuntimeError: Event loop already running\n"
     ]
    },
    {
     "name": "stdout",
     "output_type": "stream",
     "text": [
      "[(1982.1147186147182, 1004.6601731601729)]\n"
     ]
    },
    {
     "name": "stderr",
     "output_type": "stream",
     "text": [
      "Traceback (most recent call last):\n",
      "  File \"C:\\Users\\wadi2\\Anaconda3\\envs\\DataCube\\lib\\site-packages\\matplotlib\\cbook\\__init__.py\", line 224, in process\n",
      "    func(*args, **kwargs)\n",
      "  File \"<ipython-input-6-72976a0944d7>\", line 65, in onclick\n",
      "    coord =  plt.ginput()\n",
      "  File \"C:\\Users\\wadi2\\Anaconda3\\envs\\DataCube\\lib\\site-packages\\matplotlib\\pyplot.py\", line 2383, in ginput\n",
      "    return gcf().ginput(\n",
      "  File \"C:\\Users\\wadi2\\Anaconda3\\envs\\DataCube\\lib\\site-packages\\matplotlib\\figure.py\", line 2453, in ginput\n",
      "    return blocking_mouse_input(n=n, timeout=timeout,\n",
      "  File \"C:\\Users\\wadi2\\Anaconda3\\envs\\DataCube\\lib\\site-packages\\matplotlib\\blocking_input.py\", line 267, in __call__\n",
      "    BlockingInput.__call__(self, n=n, timeout=timeout)\n",
      "  File \"C:\\Users\\wadi2\\Anaconda3\\envs\\DataCube\\lib\\site-packages\\matplotlib\\blocking_input.py\", line 93, in __call__\n",
      "    self.fig.canvas.start_event_loop(timeout=timeout)\n",
      "  File \"C:\\Users\\wadi2\\Anaconda3\\envs\\DataCube\\lib\\site-packages\\matplotlib\\backends\\backend_qt5.py\", line 429, in start_event_loop\n",
      "    raise RuntimeError(\"Event loop already running\")\n",
      "RuntimeError: Event loop already running\n"
     ]
    },
    {
     "name": "stdout",
     "output_type": "stream",
     "text": [
      "[(2009.8203463203458, 1010.2012987012984)]\n"
     ]
    },
    {
     "name": "stderr",
     "output_type": "stream",
     "text": [
      "Traceback (most recent call last):\n",
      "  File \"C:\\Users\\wadi2\\Anaconda3\\envs\\DataCube\\lib\\site-packages\\matplotlib\\cbook\\__init__.py\", line 224, in process\n",
      "    func(*args, **kwargs)\n",
      "  File \"<ipython-input-6-72976a0944d7>\", line 65, in onclick\n",
      "    coord =  plt.ginput()\n",
      "  File \"C:\\Users\\wadi2\\Anaconda3\\envs\\DataCube\\lib\\site-packages\\matplotlib\\pyplot.py\", line 2383, in ginput\n",
      "    return gcf().ginput(\n",
      "  File \"C:\\Users\\wadi2\\Anaconda3\\envs\\DataCube\\lib\\site-packages\\matplotlib\\figure.py\", line 2453, in ginput\n",
      "    return blocking_mouse_input(n=n, timeout=timeout,\n",
      "  File \"C:\\Users\\wadi2\\Anaconda3\\envs\\DataCube\\lib\\site-packages\\matplotlib\\blocking_input.py\", line 267, in __call__\n",
      "    BlockingInput.__call__(self, n=n, timeout=timeout)\n",
      "  File \"C:\\Users\\wadi2\\Anaconda3\\envs\\DataCube\\lib\\site-packages\\matplotlib\\blocking_input.py\", line 93, in __call__\n",
      "    self.fig.canvas.start_event_loop(timeout=timeout)\n",
      "  File \"C:\\Users\\wadi2\\Anaconda3\\envs\\DataCube\\lib\\site-packages\\matplotlib\\backends\\backend_qt5.py\", line 429, in start_event_loop\n",
      "    raise RuntimeError(\"Event loop already running\")\n",
      "RuntimeError: Event loop already running\n"
     ]
    },
    {
     "name": "stdout",
     "output_type": "stream",
     "text": [
      "[(2009.8203463203458, 1652.9718614718613)]\n"
     ]
    },
    {
     "name": "stderr",
     "output_type": "stream",
     "text": [
      "Traceback (most recent call last):\n",
      "  File \"C:\\Users\\wadi2\\Anaconda3\\envs\\DataCube\\lib\\site-packages\\matplotlib\\cbook\\__init__.py\", line 224, in process\n",
      "    func(*args, **kwargs)\n",
      "  File \"<ipython-input-6-72976a0944d7>\", line 65, in onclick\n",
      "    coord =  plt.ginput()\n",
      "  File \"C:\\Users\\wadi2\\Anaconda3\\envs\\DataCube\\lib\\site-packages\\matplotlib\\pyplot.py\", line 2383, in ginput\n",
      "    return gcf().ginput(\n",
      "  File \"C:\\Users\\wadi2\\Anaconda3\\envs\\DataCube\\lib\\site-packages\\matplotlib\\figure.py\", line 2453, in ginput\n",
      "    return blocking_mouse_input(n=n, timeout=timeout,\n",
      "  File \"C:\\Users\\wadi2\\Anaconda3\\envs\\DataCube\\lib\\site-packages\\matplotlib\\blocking_input.py\", line 267, in __call__\n",
      "    BlockingInput.__call__(self, n=n, timeout=timeout)\n",
      "  File \"C:\\Users\\wadi2\\Anaconda3\\envs\\DataCube\\lib\\site-packages\\matplotlib\\blocking_input.py\", line 93, in __call__\n",
      "    self.fig.canvas.start_event_loop(timeout=timeout)\n",
      "  File \"C:\\Users\\wadi2\\Anaconda3\\envs\\DataCube\\lib\\site-packages\\matplotlib\\backends\\backend_qt5.py\", line 429, in start_event_loop\n",
      "    raise RuntimeError(\"Event loop already running\")\n",
      "RuntimeError: Event loop already running\n"
     ]
    },
    {
     "name": "stdout",
     "output_type": "stream",
     "text": [
      "[(1982.1147186147182, 1990.9805194805194)]\n"
     ]
    }
   ],
   "source": [
    "#6\n",
    "#PICK POINT FOR SET OF THREE IN FIRST IMAGE\n",
    "#Hypercube in the form of an np.array of before image\n",
    "data = before\n",
    "#Dimensions of the np.array hypercube\n",
    "data_shape = before.shape\n",
    "#wv is an array of wavelengths, incremented 1 at a time\n",
    "wv = [i for i in range(start_wavelength,end_wavelength+1)]\n",
    "#??\n",
    "fig, ax = plt.subplots(1, 1)\n",
    "\n",
    "#IndexTracker does what?\n",
    "tracker2 = IndexTracker(ax, np.resize(data[np.isfinite(data)], data_shape), wv,  \\\n",
    "wv_min = start_wavelength, wv_max = end_wavelength, wv_step = 1,\\\n",
    "cmin = 0, cmax = 10)#3 * np.mean(data[np.isfinite(data)]))\n",
    "\n",
    "fig.canvas.mpl_connect('scroll_event', tracker.onscroll)\n",
    "plt.show()\n"
   ]
  },
  {
   "cell_type": "code",
   "execution_count": null,
   "metadata": {},
   "outputs": [],
   "source": [
    "#I separated them again, because otherwise the variables are saved before the user choose any point\n",
    "#get current matrix data for before\n",
    "currArray2 = tracker2.currArray\n",
    "#top corner x-coordinate\n",
    "x_top2 = tracker2.x\n",
    "#top corner y-coordinate\n",
    "y_top2 = tracker2.y"
   ]
  },
  {
   "cell_type": "code",
   "execution_count": null,
   "metadata": {},
   "outputs": [],
   "source": [
    "#visualize rectangular image for before\n",
    "plt.figure()\n",
    "plt.imshow(currArray2, cmap = 'gray')\n",
    "plt.clim(0,10)"
   ]
  },
  {
   "cell_type": "code",
   "execution_count": null,
   "metadata": {},
   "outputs": [],
   "source": [
    "#7\n",
    "\n",
    "#Load wavelengths 0 is 650\n",
    "wavelength = 2\n",
    "beforeSingleWavelength = before[wavelength]\n",
    "afterSingleWavelength = after[wavelength]\n",
    "\n",
    "\n",
    "\n",
    "#Remove outliers from both sub-images. If not removed, they cause normalization to fail\n",
    "Q1 = np.percentile(currArray, 25,interpolation = 'midpoint')\n",
    "\n",
    "Q3 = np.percentile(currArray, 75, interpolation = 'midpoint')\n",
    "IQR = Q3 - Q1\n",
    " \n",
    "#Removing the Outliers\n",
    "currArray[currArray > Q3+1.5*IQR] = Q3+1.5*IQR\n",
    "currArray[currArray < Q1-1.5*IQR] = Q1-1.5*IQR\n",
    "#####\n",
    "Q1 = np.percentile(currArray2, 25,interpolation = 'midpoint')\n",
    "Q3 = np.percentile(currArray2, 75, interpolation = 'midpoint')\n",
    "IQR = Q3 - Q1\n",
    " \n",
    "#Removing the Outliers\n",
    "currArray2[currArray2 > Q3+1.5*IQR] = Q3+1.5*IQR\n",
    "currArray2[currArray2 < Q1-1.5*IQR] = Q1-1.5*IQR\n",
    "\n",
    "\n",
    "\n",
    "\n",
    "\n",
    "#similarly for the images\n",
    "Q1 = np.percentile(beforeSingleWavelength, 25,interpolation = 'midpoint')\n",
    "\n",
    "Q3 = np.percentile(beforeSingleWavelength, 75, interpolation = 'midpoint')\n",
    "IQR = Q3 - Q1\n",
    " \n",
    "#Removing the Outliers\n",
    "beforeSingleWavelength[beforeSingleWavelength > Q3+1.5*IQR] = Q3+1.5*IQR\n",
    "beforeSingleWavelength[beforeSingleWavelength < Q1-1.5*IQR] = Q1-1.5*IQR\n",
    "#####\n",
    "Q1 = np.percentile(afterSingleWavelength, 25,interpolation = 'midpoint')\n",
    "Q3 = np.percentile(afterSingleWavelength, 75, interpolation = 'midpoint')\n",
    "IQR = Q3 - Q1\n",
    " \n",
    "#Removing the Outliers\n",
    "afterSingleWavelength[afterSingleWavelength > Q3+1.5*IQR] = Q3+1.5*IQR\n",
    "afterSingleWavelength[afterSingleWavelength < Q1-1.5*IQR] = Q1-1.5*IQR\n",
    "\n"
   ]
  },
  {
   "cell_type": "code",
   "execution_count": null,
   "metadata": {},
   "outputs": [],
   "source": [
    "#8\n",
    "#Create Hough Circles in both sub-images and save centroid coordinates\n",
    "\n",
    "#cv.imshow('detected circles',cimg)\n",
    "dst\t= cv.normalize(currArray, None, 0, 255, cv2.NORM_MINMAX, dtype=cv2.CV_8U)\n",
    "\n",
    "cimg = cv.cvtColor(dst,cv.COLOR_GRAY2BGR)\n",
    "dst = cv.medianBlur(dst, 9)\n",
    "dts = cv.GaussianBlur( dst, (9, 9), 2 )\n",
    "#cv2.imshow('before',dst)\n",
    "#Hough circle transform https://docs.opencv.org/4.x/dd/d1a/group__imgproc__feature.html#ga47849c3be0d0406ad3ca45db65a25d2d\n",
    "# One of the most important features is param1. Min and max raidus will need to be determined based on batch varaition\n",
    "\n",
    "circles = cv.HoughCircles(dts,cv.HOUGH_GRADIENT,1,250,param1=18,param2=15,minRadius=70,maxRadius=110)\n",
    "\n",
    "#print(circles)\n",
    "\n",
    "#show blurred image\n",
    "if circles is not None:\n",
    "    circles = np.uint16(np.around(circles))\n",
    "\n",
    "    for i in circles[0,:]:\n",
    "        # draw the outer circle\n",
    "        cv.circle(cimg,(i[0],i[1]),i[2],(0,255,0),3)\n",
    "        # draw the center of the circle\n",
    "        cv.circle(cimg,(i[0],i[1]),2,(0,0,255),3)\n",
    "    #Show before image with circles drown on\n",
    "    cv2.namedWindow(\"Before\", cv2.WINDOW_NORMAL)\n",
    "    cv.imshow('Before',cimg)\n",
    "    #print(circles)\n",
    "else:\n",
    "    print(\"HOUGH CIRCLE DETECTION FAILED ON BEFORE IMAGE\")\n",
    "    #cv.imshow('detected circles',cimg)\n",
    "\n",
    "\n",
    "###########################################################################\n",
    "#cv.imshow('detected circles',cimg)\n",
    "dsta= cv.normalize(currArray2, None, 0, 255, cv2.NORM_MINMAX, dtype=cv2.CV_8U)\n",
    "cimga = cv.cvtColor(dsta,cv.COLOR_GRAY2BGR)\n",
    "dsta = cv.medianBlur(dsta, 9)\n",
    "dtsa = cv.GaussianBlur( dsta, (9, 9), 2 )\n",
    "#cv2.imshow('after',dsta)\n",
    "#Hough circle transform https://docs.opencv.org/4.x/dd/d1a/group__imgproc__feature.html#ga47849c3be0d0406ad3ca45db65a25d2d\n",
    "# One of the most important features is param1. Min and max raidus will need to be determined based on batch varaition\n",
    "\n",
    "circlesa = cv.HoughCircles(dtsa,cv.HOUGH_GRADIENT,1,250,param1=18,param2=20,minRadius=70,maxRadius=110)\n",
    "\n",
    "beforeCircles = []\n",
    "afterCircles = []\n",
    "if circlesa is not None:\n",
    "    circlesa = np.uint16(np.around(circlesa))\n",
    "\n",
    "    for i in circlesa[0,:]:\n",
    "        # draw the outer circle\n",
    "        cv.circle(cimga,(i[0],i[1]),i[2],(0,255,0),3)\n",
    "        # draw the center of the circle\n",
    "        cv.circle(cimga,(i[0],i[1]),2,(0,0,255),3)\n",
    "        \n",
    "    #Show after image with circles drown on\n",
    "    cv2.namedWindow(\"After\", cv2.WINDOW_NORMAL)\n",
    "    cv.imshow('After',cimga)\n",
    "    #print(circlesa)\n",
    "else:\n",
    "    print(\"HOUGH CIRCLE DETECTION FAILED ON AFTER IMAGE\")    \n",
    "    raise StopExecution\n",
    "    #Find only a certain number of circles within the images, so that those can be passed to the next step\n",
    "for i in range(0,len(circles[0])):\n",
    "    circles[0][i][0] = circles[0][i][0]+x_top\n",
    "    circles[0][i][1] = circles[0][i][1]+y_top\n",
    "for i in range(0,len(circlesa[0])):\n",
    "    circlesa[0][i][0] = circlesa[0][i][0] +x_top2\n",
    "    circlesa[0][i][1] = circlesa[0][i][1] +y_top2\n",
    "##TO FIX, DOWNSTREAM NAMING\n",
    "afterCircles = circlesa\n",
    "#remove one dimension\n",
    "afterCircles = afterCircles[0]\n",
    "afterCircles = afterCircles[afterCircles[:,2].argsort()]\n",
    "#sort\n",
    "#afterCircles = np.sort(afterCircles, axis = 1)\n",
    "beforeCircles = circles\n",
    "#remove one dimension\n",
    "beforeCircles = beforeCircles[0]\n",
    "beforeCircles = beforeCircles[beforeCircles[:,2].argsort()]\n",
    "\n",
    "#beforeCircles = np.sort(beforeCircles, axis = 1)\n",
    "\n",
    "#print(afterCircles)\n",
    "#print(beforeCircles)\n",
    "            "
   ]
  },
  {
   "cell_type": "code",
   "execution_count": null,
   "metadata": {},
   "outputs": [],
   "source": [
    "#9\n",
    "##Transform images named\n",
    "#beforeSingleWavelength\n",
    "#afterSingleWavelength\n",
    "#which were defined in the cell above. Use the coordinates stored in\n",
    "#beforeCircles\n",
    "#afterCircles\n",
    "#as [x y radius]\n",
    "\n",
    "# get difference in x locations between before and after\n",
    "x_diff = np.mean(np.double(beforeCircles[:,0]) - np.double(afterCircles[:,0]))\n",
    "y_diff = np.mean(np.double(beforeCircles[:,1]) - np.double(afterCircles[:,1]))\n",
    "\n",
    "print(np.round(x_diff), np.round(y_diff))\n",
    "#if difference in x is negative, it means that before is to the left of after. \n",
    "#in this case add zero pading to the left of the before image, and add zero pading to the right of after image to ensure\n",
    "# same matrix sizes\n",
    "# similarly with y\n",
    "\n",
    "if x_diff < 0:\n",
    "    \n",
    "    beforeSingleWavelength = np.pad(beforeSingleWavelength, ((0,0), (0, np.abs(np.round(x_diff.astype(int))))), constant_values = 0)\n",
    "    afterSingleWavelength = np.pad(afterSingleWavelength, ((0,0), (np.abs(np.round(x_diff.astype(int))),0)), constant_values = 0)\n",
    "\n",
    "if y_diff < 0:\n",
    "    beforeSingleWavelength = np.pad(beforeSingleWavelength, ((0, np.abs(np.round(y_diff.astype(int)))), (0, 0)), constant_values = 0)\n",
    "    afterSingleWavelength = np.pad(afterSingleWavelength, ((np.abs(np.round(y_diff.astype(int))),0), (0,0)), constant_values = 0)\n",
    "\n",
    "\n",
    "if x_diff > 0:\n",
    "    beforeSingleWavelength = np.pad(beforeSingleWavelength, ((0,0), (np.abs(np.round(x_diff.astype(int))), 0)), constant_values = 0)\n",
    "    afterSingleWavelength = np.pad(afterSingleWavelength, ((0,0), (0, np.abs(np.round(x_diff.astype(int))))), constant_values = 0)\n",
    "\n",
    "if y_diff > 0:\n",
    "    beforeSingleWavelength = np.pad(beforeSingleWavelength, ((np.abs(np.round(y_diff.astype(int))), 0), (0, 0)), constant_values = 0)\n",
    "    afterSingleWavelength = np.pad(afterSingleWavelength, ((0, np.abs(np.round(y_diff.astype(int)))), (0,0)), constant_values = 0)\n",
    "    \n",
    "\n"
   ]
  },
  {
   "cell_type": "code",
   "execution_count": null,
   "metadata": {},
   "outputs": [],
   "source": [
    "plt.figure\n",
    "plt.imshow(np.divide(beforeSingleWavelength, np.max(beforeSingleWavelength)) - np.divide(afterSingleWavelength, np.max(afterSingleWavelength)), cmap = 'gray')\n",
    "plt.clim(-0.5,0.1)\n"
   ]
  },
  {
   "cell_type": "code",
   "execution_count": null,
   "metadata": {},
   "outputs": [],
   "source": [
    "plt.figure\n",
    "plt.imshow(np.divide(beforeSingleWavelength, np.max(beforeSingleWavelength)), cmap = 'gray')\n",
    "plt.clim(0,1)"
   ]
  }
 ],
 "metadata": {
  "kernelspec": {
   "display_name": "Python 3",
   "language": "python",
   "name": "python3"
  },
  "language_info": {
   "codemirror_mode": {
    "name": "ipython",
    "version": 3
   },
   "file_extension": ".py",
   "mimetype": "text/x-python",
   "name": "python",
   "nbconvert_exporter": "python",
   "pygments_lexer": "ipython3",
   "version": "3.8.8"
  }
 },
 "nbformat": 4,
 "nbformat_minor": 4
}
